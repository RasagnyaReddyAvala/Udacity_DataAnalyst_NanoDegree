{
 "cells": [
  {
   "cell_type": "markdown",
   "metadata": {},
   "source": [
    "\n",
    "\n",
    "# Project: Investigation on No-show appointments\n",
    "\n",
    "## Table of Contents\n",
    "<ul>\n",
    "<li><a href=\"#intro\">Introduction</a></li>\n",
    "<li><a href=\"#wrangling\">Data Wrangling</a></li>\n",
    "<li><a href=\"#eda\">Exploratory Data Analysis</a></li>\n",
    "<li><a href=\"#conclusions\">Conclusions</a></li>\n",
    "</ul>"
   ]
  },
  {
   "cell_type": "markdown",
   "metadata": {},
   "source": [
    "<a id='intro'></a>\n",
    "## Introduction\n",
    "\n"
   ]
  },
  {
   "cell_type": "code",
   "execution_count": 2,
   "metadata": {},
   "outputs": [],
   "source": [
    "#Import packages\n",
    "import numpy as np\n",
    "import pandas as pd\n",
    "% matplotlib inline\n"
   ]
  },
  {
   "cell_type": "markdown",
   "metadata": {},
   "source": [
    "The dataset chosen is No-showappointments in a hospital in Brazil\n",
    "## Questions\n",
    "1.What age groups visit the hospital?\n",
    "\n",
    "2.Top neighbourhoods with maximum and no-shows and shows?\n",
    "\n",
    "3.Do same day appointments help in reducing no-shows?\n",
    "\n",
    "4.How does scholarship/welfare program affect no-shows?"
   ]
  },
  {
   "cell_type": "markdown",
   "metadata": {},
   "source": [
    "<a id='wrangling'></a>\n",
    "## Data Wrangling\n",
    "\n",
    "Gather data - Load csv file and print the top 5 rows\n",
    "\n",
    "Analyze the dimensional and statistical information of the dataset"
   ]
  },
  {
   "cell_type": "code",
   "execution_count": 3,
   "metadata": {},
   "outputs": [
    {
     "name": "stdout",
     "output_type": "stream",
     "text": [
      "      PatientId  AppointmentID Gender          ScheduledDay  \\\n",
      "0  2.987250e+13        5642903      F  2016-04-29T18:38:08Z   \n",
      "1  5.589978e+14        5642503      M  2016-04-29T16:08:27Z   \n",
      "2  4.262962e+12        5642549      F  2016-04-29T16:19:04Z   \n",
      "3  8.679512e+11        5642828      F  2016-04-29T17:29:31Z   \n",
      "4  8.841186e+12        5642494      F  2016-04-29T16:07:23Z   \n",
      "\n",
      "         AppointmentDay  Age      Neighbourhood  Scholarship  Hipertension  \\\n",
      "0  2016-04-29T00:00:00Z   62    JARDIM DA PENHA            0             1   \n",
      "1  2016-04-29T00:00:00Z   56    JARDIM DA PENHA            0             0   \n",
      "2  2016-04-29T00:00:00Z   62      MATA DA PRAIA            0             0   \n",
      "3  2016-04-29T00:00:00Z    8  PONTAL DE CAMBURI            0             0   \n",
      "4  2016-04-29T00:00:00Z   56    JARDIM DA PENHA            0             1   \n",
      "\n",
      "   Diabetes  Alcoholism  Handcap  SMS_received No-show  \n",
      "0         0           0        0             0      No  \n",
      "1         0           0        0             0      No  \n",
      "2         0           0        0             0      No  \n",
      "3         0           0        0             0      No  \n",
      "4         1           0        0             0      No  \n"
     ]
    }
   ],
   "source": [
    "# Load your data and print out a few lines. Perform operations to inspect data\n",
    "data = pd.read_csv('C:/Users/avala/Downloads/noshowappointments-kagglev2-may-2016.csv')\n",
    "print(data.head())\n"
   ]
  },
  {
   "cell_type": "code",
   "execution_count": 4,
   "metadata": {},
   "outputs": [
    {
     "name": "stdout",
     "output_type": "stream",
     "text": [
      "shape: (110527, 14)\n"
     ]
    }
   ],
   "source": [
    "#Shape of data\n",
    "print(\"shape:\",data.shape)\n"
   ]
  },
  {
   "cell_type": "code",
   "execution_count": 5,
   "metadata": {},
   "outputs": [
    {
     "name": "stdout",
     "output_type": "stream",
     "text": [
      "Data types \n",
      " PatientId         float64\n",
      "AppointmentID       int64\n",
      "Gender             object\n",
      "ScheduledDay       object\n",
      "AppointmentDay     object\n",
      "Age                 int64\n",
      "Neighbourhood      object\n",
      "Scholarship         int64\n",
      "Hipertension        int64\n",
      "Diabetes            int64\n",
      "Alcoholism          int64\n",
      "Handcap             int64\n",
      "SMS_received        int64\n",
      "No-show            object\n",
      "dtype: object\n"
     ]
    }
   ],
   "source": [
    "#Data types\n",
    "print(\"Data types \\n\",data.dtypes)\n"
   ]
  },
  {
   "cell_type": "code",
   "execution_count": 6,
   "metadata": {},
   "outputs": [
    {
     "name": "stdout",
     "output_type": "stream",
     "text": [
      "<class 'pandas.core.frame.DataFrame'>\n",
      "RangeIndex: 110527 entries, 0 to 110526\n",
      "Data columns (total 14 columns):\n",
      "PatientId         110527 non-null float64\n",
      "AppointmentID     110527 non-null int64\n",
      "Gender            110527 non-null object\n",
      "ScheduledDay      110527 non-null object\n",
      "AppointmentDay    110527 non-null object\n",
      "Age               110527 non-null int64\n",
      "Neighbourhood     110527 non-null object\n",
      "Scholarship       110527 non-null int64\n",
      "Hipertension      110527 non-null int64\n",
      "Diabetes          110527 non-null int64\n",
      "Alcoholism        110527 non-null int64\n",
      "Handcap           110527 non-null int64\n",
      "SMS_received      110527 non-null int64\n",
      "No-show           110527 non-null object\n",
      "dtypes: float64(1), int64(8), object(5)\n",
      "memory usage: 11.8+ MB\n",
      "None\n",
      "Data Description \n",
      "           PatientId  AppointmentID            Age    Scholarship  \\\n",
      "count  1.105270e+05   1.105270e+05  110527.000000  110527.000000   \n",
      "mean   1.474963e+14   5.675305e+06      37.088874       0.098266   \n",
      "std    2.560949e+14   7.129575e+04      23.110205       0.297675   \n",
      "min    3.921784e+04   5.030230e+06      -1.000000       0.000000   \n",
      "25%    4.172614e+12   5.640286e+06      18.000000       0.000000   \n",
      "50%    3.173184e+13   5.680573e+06      37.000000       0.000000   \n",
      "75%    9.439172e+13   5.725524e+06      55.000000       0.000000   \n",
      "max    9.999816e+14   5.790484e+06     115.000000       1.000000   \n",
      "\n",
      "        Hipertension       Diabetes     Alcoholism        Handcap  \\\n",
      "count  110527.000000  110527.000000  110527.000000  110527.000000   \n",
      "mean        0.197246       0.071865       0.030400       0.022248   \n",
      "std         0.397921       0.258265       0.171686       0.161543   \n",
      "min         0.000000       0.000000       0.000000       0.000000   \n",
      "25%         0.000000       0.000000       0.000000       0.000000   \n",
      "50%         0.000000       0.000000       0.000000       0.000000   \n",
      "75%         0.000000       0.000000       0.000000       0.000000   \n",
      "max         1.000000       1.000000       1.000000       4.000000   \n",
      "\n",
      "        SMS_received  \n",
      "count  110527.000000  \n",
      "mean        0.321026  \n",
      "std         0.466873  \n",
      "min         0.000000  \n",
      "25%         0.000000  \n",
      "50%         0.000000  \n",
      "75%         1.000000  \n",
      "max         1.000000  \n"
     ]
    }
   ],
   "source": [
    "#Summary statistics and general info\n",
    "print(data.info())\n",
    "print(\"Data Description \\n\",data.describe())\n"
   ]
  },
  {
   "cell_type": "code",
   "execution_count": 7,
   "metadata": {},
   "outputs": [
    {
     "name": "stdout",
     "output_type": "stream",
     "text": [
      "Unique Data Values \n",
      " PatientId          62299\n",
      "AppointmentID     110527\n",
      "Gender                 2\n",
      "ScheduledDay      103549\n",
      "AppointmentDay        27\n",
      "Age                  104\n",
      "Neighbourhood         81\n",
      "Scholarship            2\n",
      "Hipertension           2\n",
      "Diabetes               2\n",
      "Alcoholism             2\n",
      "Handcap                5\n",
      "SMS_received           2\n",
      "No-show                2\n",
      "dtype: int64\n",
      "0 PatientId\n",
      "1 AppointmentID\n",
      "2 Gender\n",
      "3 ScheduledDay\n",
      "4 AppointmentDay\n",
      "5 Age\n",
      "6 Neighbourhood\n",
      "7 Scholarship\n",
      "8 Hipertension\n",
      "9 Diabetes\n",
      "10 Alcoholism\n",
      "11 Handcap\n",
      "12 SMS_received\n",
      "13 No-show\n"
     ]
    }
   ],
   "source": [
    "#Unique values in each column\n",
    "print(\"Unique Data Values \\n\",data.nunique())\n",
    "#Listing out the columns\n",
    "for i, v in enumerate(data.columns):\n",
    "    print(i, v)"
   ]
  },
  {
   "cell_type": "markdown",
   "metadata": {},
   "source": [
    "\n",
    "\n",
    "### Data Cleaning\n",
    "<ul>\n",
    "<li><a href=\"#missing\">Missing Values</a></li>\n",
    "<li><a href=\"#duplicate\">Duplicates</a></li>\n",
    "<li><a href=\"#dataformat\">Incorrect Data Formats</a></li>\n",
    "</ul>\n"
   ]
  },
  {
   "cell_type": "markdown",
   "metadata": {},
   "source": [
    "<a id='missing'></a>\n",
    "## Missing Values"
   ]
  },
  {
   "cell_type": "code",
   "execution_count": 8,
   "metadata": {},
   "outputs": [
    {
     "name": "stdout",
     "output_type": "stream",
     "text": [
      "Missing values PatientId         0\n",
      "AppointmentID     0\n",
      "Gender            0\n",
      "ScheduledDay      0\n",
      "AppointmentDay    0\n",
      "Age               0\n",
      "Neighbourhood     0\n",
      "Scholarship       0\n",
      "Hipertension      0\n",
      "Diabetes          0\n",
      "Alcoholism        0\n",
      "Handcap           0\n",
      "SMS_received      0\n",
      "No-show           0\n",
      "dtype: int64\n"
     ]
    }
   ],
   "source": [
    "\n",
    "#print(data[data['Age']==-1])\n",
    "print(\"Missing values\",data.isnull().sum())"
   ]
  },
  {
   "cell_type": "markdown",
   "metadata": {},
   "source": [
    "> The output tells us that we dont have any missing values in the dataset"
   ]
  },
  {
   "cell_type": "markdown",
   "metadata": {},
   "source": [
    "<a id='duplicate'></a>\n",
    "## Duplicate Values"
   ]
  },
  {
   "cell_type": "code",
   "execution_count": 9,
   "metadata": {},
   "outputs": [
    {
     "name": "stdout",
     "output_type": "stream",
     "text": [
      "Duplicate values 0\n"
     ]
    }
   ],
   "source": [
    "print(\"Duplicate values\",sum(data.duplicated()))"
   ]
  },
  {
   "cell_type": "markdown",
   "metadata": {},
   "source": [
    "> We dont have any duplicates in the dataset"
   ]
  },
  {
   "cell_type": "markdown",
   "metadata": {},
   "source": [
    "<a id='dataformat'></a>\n",
    "## Incorrect Data Formats\n",
    "> Since ScheduleDay and AppointmentDay are in String we'll have to convert that to date type and exclude the timestamps since I'll be using only dates in my analysis"
   ]
  },
  {
   "cell_type": "code",
   "execution_count": 10,
   "metadata": {},
   "outputs": [],
   "source": [
    "data['ScheduledDay']=pd.to_datetime(data['ScheduledDay'])\n",
    "data['ScheduledDate'] = data['ScheduledDay'].dt.date\n",
    "data['AppointmentDay']=pd.to_datetime(data['AppointmentDay'])\n",
    "data['AppointmentDate'] = data['AppointmentDay'].dt.date\n"
   ]
  },
  {
   "cell_type": "markdown",
   "metadata": {},
   "source": [
    "<a id='eda'></a>\n",
    "## Exploratory Data Analysis\n",
    "\n",
    "\n",
    "\n",
    "### Research Question 1 - What age groups visit the hospital?"
   ]
  },
  {
   "cell_type": "code",
   "execution_count": 7,
   "metadata": {},
   "outputs": [
    {
     "name": "stdout",
     "output_type": "stream",
     "text": [
      "[[<matplotlib.axes._subplots.AxesSubplot object at 0x000001A3AF42E7B8>\n",
      "  <matplotlib.axes._subplots.AxesSubplot object at 0x000001A3B0B9B0F0>\n",
      "  <matplotlib.axes._subplots.AxesSubplot object at 0x000001A3B0A93A90>]\n",
      " [<matplotlib.axes._subplots.AxesSubplot object at 0x000001A3B09AF470>\n",
      "  <matplotlib.axes._subplots.AxesSubplot object at 0x000001A3B09DBC50>\n",
      "  <matplotlib.axes._subplots.AxesSubplot object at 0x000001A3B0627630>]\n",
      " [<matplotlib.axes._subplots.AxesSubplot object at 0x000001A3B0487FD0>\n",
      "  <matplotlib.axes._subplots.AxesSubplot object at 0x000001A3B04BF9E8>\n",
      "  <matplotlib.axes._subplots.AxesSubplot object at 0x000001A3B04BFA20>]]\n",
      "AxesSubplot(0.684722,0.125;0.215278x0.209722)\n"
     ]
    },
    {
     "data": {
      "image/png": "[encoded data removed]",
      "text/plain": [
       "<Figure size 576x576 with 9 Axes>"
      ]
     },
     "metadata": {},
     "output_type": "display_data"
    }
   ],
   "source": [
    "#Histogram of all variables\n",
    "print(data.hist());\n"
   ]
  },
  {
   "cell_type": "code",
   "execution_count": 9,
   "metadata": {},
   "outputs": [
    {
     "name": "stdout",
     "output_type": "stream",
     "text": [
      "AxesSubplot(0.125,0.125;0.775x0.755)\n"
     ]
    },
    {
     "data": {
      "image/png": "[encoded data removed]",
      "text/plain": [
       "<Figure size 576x576 with 1 Axes>"
      ]
     },
     "metadata": {},
     "output_type": "display_data"
    }
   ],
   "source": [
    "#Histogram of Age\n",
    "print(data['Age'].plot(kind='hist',figsize=(8,8)));\n"
   ]
  },
  {
   "cell_type": "markdown",
   "metadata": {},
   "source": [
    "> The age group ranges from -1 to 115. Although age -1 doesn't make any sense, we can still retain the row because it's a no show and that's our primary class of interest.\n",
    "\n",
    ">This plot is to just give us an understanding of age range. We will not be performing any further analysis on Age"
   ]
  },
  {
   "cell_type": "code",
   "execution_count": 26,
   "metadata": {},
   "outputs": [
    {
     "data": {
      "text/plain": [
       "<matplotlib.axes._subplots.AxesSubplot at 0x1742563abe0>"
      ]
     },
     "execution_count": 26,
     "metadata": {},
     "output_type": "execute_result"
    },
    {
     "data": {
      "image/png": "[encoded data removed]",
      "text/plain": [
       "<Figure size 432x288 with 1 Axes>"
      ]
     },
     "metadata": {},
     "output_type": "display_data"
    }
   ],
   "source": [
    "data['Gender'].groupby(data['No-show']).value_counts().plot(kind='bar')"
   ]
  },
  {
   "cell_type": "markdown",
   "metadata": {},
   "source": [
    "> We see that female gender is dominant in both turning up and notshowing up for their appointments."
   ]
  },
  {
   "cell_type": "markdown",
   "metadata": {},
   "source": [
    "### Research Question 2 - Top neighbourhoods with maximum no-shows and shows of patients who received SMS?"
   ]
  },
  {
   "cell_type": "code",
   "execution_count": 11,
   "metadata": {},
   "outputs": [
    {
     "name": "stdout",
     "output_type": "stream",
     "text": [
      "No-show  Neighbourhood    \n",
      "Yes      MARIA ORTIZ          641\n",
      "         JARDIM CAMBURI       636\n",
      "         RESISTÊNCIA          449\n",
      "         ITARARÉ              422\n",
      "         CENTRO               296\n",
      "         JARDIM DA PENHA      294\n",
      "         JESUS DE NAZARETH    290\n",
      "         SANTO ANDRÉ          251\n",
      "         ILHA DO PRÍNCIPE     250\n",
      "         TABUAZEIRO           249\n",
      "Name: Neighbourhood, dtype: int64\n",
      "AxesSubplot(0.125,0.125;0.775x0.755)\n"
     ]
    },
    {
     "data": {
      "image/png": "[encoded data removed]",
      "text/plain": [
       "<Figure size 576x576 with 1 Axes>"
      ]
     },
     "metadata": {},
     "output_type": "display_data"
    }
   ],
   "source": [
    "#Dataset that gives us information of patients who received SMS regarding their appointments. We will further split this into show and no-show accordingly\n",
    "sms_received = data[data[\"SMS_received\"]==1]\n",
    "show = sms_received[sms_received[\"No-show\"]==\"No\"]\n",
    "no_show = sms_received[sms_received[\"No-show\"]==\"Yes\"]\n",
    "print(no_show['Neighbourhood'].groupby(no_show['No-show']).value_counts().nlargest(10))\n",
    "print(no_show['Neighbourhood'].value_counts().nlargest(10).plot(kind='bar',figsize=(8,8)));\n"
   ]
  },
  {
   "cell_type": "markdown",
   "metadata": {},
   "source": [
    "> The neighbourhood with maximum no shows who received SMS is Maria Ortiz followed by Jardim Camburi with 641 and 636 no-show patients respectively\n",
    "\n",
    "> I'd like to further drill down on Maria Ortiz neighbourhood"
   ]
  },
  {
   "cell_type": "code",
   "execution_count": 28,
   "metadata": {},
   "outputs": [
    {
     "name": "stdout",
     "output_type": "stream",
     "text": [
      "          PatientId  AppointmentID          Age  Scholarship  Hipertension  \\\n",
      "count  5.805000e+03   5.805000e+03  5805.000000  5805.000000   5805.000000   \n",
      "mean   1.468694e+14   5.661851e+06    35.275797     0.020500      0.021361   \n",
      "std    2.543808e+14   7.032524e+04    23.388397     0.141714      0.144597   \n",
      "min    4.374176e+04   5.311307e+06     0.000000     0.000000      0.000000   \n",
      "25%    4.615162e+12   5.614292e+06    15.000000     0.000000      0.000000   \n",
      "50%    2.947126e+13   5.664262e+06    35.000000     0.000000      0.000000   \n",
      "75%    9.512835e+13   5.714625e+06    54.000000     0.000000      0.000000   \n",
      "max    9.993486e+14   5.790447e+06   102.000000     1.000000      1.000000   \n",
      "\n",
      "          Diabetes   Alcoholism      Handcap  SMS_received  \\\n",
      "count  5805.000000  5805.000000  5805.000000   5805.000000   \n",
      "mean      0.009302     0.001378     0.001034      0.361929   \n",
      "std       0.096007     0.037101     0.032136      0.480600   \n",
      "min       0.000000     0.000000     0.000000      0.000000   \n",
      "25%       0.000000     0.000000     0.000000      0.000000   \n",
      "50%       0.000000     0.000000     0.000000      0.000000   \n",
      "75%       0.000000     0.000000     0.000000      1.000000   \n",
      "max       1.000000     1.000000     1.000000      1.000000   \n",
      "\n",
      "                    difference  \n",
      "count                     5805  \n",
      "mean   13 days 08:49:06.976744  \n",
      "std    14 days 21:30:09.878166  \n",
      "min            0 days 00:00:00  \n",
      "25%            0 days 00:00:00  \n",
      "50%            5 days 00:00:00  \n",
      "75%           30 days 00:00:00  \n",
      "max          102 days 00:00:00  \n",
      "AxesSubplot(0.260833,0.125;0.503333x0.755)\n",
      "SMS_received  No-show\n",
      "0             No         3126\n",
      "              Yes         578\n",
      "1             No         1460\n",
      "              Yes         641\n",
      "Name: No-show, dtype: int64\n"
     ]
    },
    {
     "data": {
      "image/png": "[encoded data removed]",
      "text/plain": [
       "<Figure size 432x288 with 1 Axes>"
      ]
     },
     "metadata": {},
     "output_type": "display_data"
    }
   ],
   "source": [
    "maria_ortiz = data[data['Neighbourhood']==('MARIA ORTIZ')]\n",
    "print(maria_ortiz.describe())\n",
    "print(maria_ortiz['No-show'].groupby(maria_ortiz['SMS_received']).value_counts().plot(kind='pie'))\n",
    "print(maria_ortiz['No-show'].groupby(maria_ortiz['SMS_received']).value_counts())"
   ]
  },
  {
   "cell_type": "markdown",
   "metadata": {},
   "source": [
    "> This tells us that in Maria Ortiz neighbourhood people upon receiving SMS but didnt show up(641) are larger in number than people who actually didnt receive any SMS and hence didnt show up"
   ]
  },
  {
   "cell_type": "code",
   "execution_count": 29,
   "metadata": {},
   "outputs": [
    {
     "name": "stdout",
     "output_type": "stream",
     "text": [
      "AxesSubplot(0.260833,0.125;0.503333x0.755)\n",
      "Gender  No-show\n",
      "F       No         2941\n",
      "        Yes         794\n",
      "M       No         1645\n",
      "        Yes         425\n",
      "Name: No-show, dtype: int64\n"
     ]
    },
    {
     "data": {
      "image/png": "[encoded data removed]",
      "text/plain": [
       "<Figure size 432x288 with 1 Axes>"
      ]
     },
     "metadata": {},
     "output_type": "display_data"
    }
   ],
   "source": [
    "print(maria_ortiz['No-show'].groupby(maria_ortiz['Gender']).value_counts().plot(kind='pie'));\n",
    "print(maria_ortiz['No-show'].groupby(maria_ortiz['Gender']).value_counts())"
   ]
  },
  {
   "cell_type": "markdown",
   "metadata": {},
   "source": [
    "> This tells us that in Maria Ortiz neighbourhood, female patients who didn't show up are 794 while men are at 425 "
   ]
  },
  {
   "cell_type": "code",
   "execution_count": 14,
   "metadata": {},
   "outputs": [
    {
     "name": "stdout",
     "output_type": "stream",
     "text": [
      "No-show  Neighbourhood  \n",
      "No       JARDIM CAMBURI     1939\n",
      "         MARIA ORTIZ        1460\n",
      "         JARDIM DA PENHA    1130\n",
      "         RESISTÊNCIA        1054\n",
      "         CENTRO              784\n",
      "         ITARARÉ             729\n",
      "         TABUAZEIRO          710\n",
      "         JABOUR              700\n",
      "         SANTO ANTÔNIO       619\n",
      "         SANTO ANDRÉ         592\n",
      "Name: Neighbourhood, dtype: int64\n",
      "AxesSubplot(0.125,0.125;0.775x0.755)\n"
     ]
    },
    {
     "data": {
      "image/png": "[encoded data removed]",
      "text/plain": [
       "<Figure size 576x576 with 1 Axes>"
      ]
     },
     "metadata": {},
     "output_type": "display_data"
    }
   ],
   "source": [
    "print(show['Neighbourhood'].groupby(show['No-show']).value_counts().nlargest(10))\n",
    "print(show['Neighbourhood'].value_counts().nlargest(10).plot(kind='bar',figsize=(8,8)));\n"
   ]
  },
  {
   "cell_type": "markdown",
   "metadata": {},
   "source": [
    "> This is to display the top 10 neighbourhoods that actually showed up"
   ]
  },
  {
   "cell_type": "markdown",
   "metadata": {},
   "source": [
    "### Research Question 3 - Do same day appointments help in reducing no-shows?"
   ]
  },
  {
   "cell_type": "code",
   "execution_count": 15,
   "metadata": {},
   "outputs": [
    {
     "name": "stdout",
     "output_type": "stream",
     "text": [
      "      PatientId  AppointmentID Gender        ScheduledDay AppointmentDay  Age  \\\n",
      "0  2.987250e+13        5642903      F 2016-04-29 18:38:08     2016-04-29   62   \n",
      "1  5.589978e+14        5642503      M 2016-04-29 16:08:27     2016-04-29   56   \n",
      "2  4.262962e+12        5642549      F 2016-04-29 16:19:04     2016-04-29   62   \n",
      "3  8.679512e+11        5642828      F 2016-04-29 17:29:31     2016-04-29    8   \n",
      "4  8.841186e+12        5642494      F 2016-04-29 16:07:23     2016-04-29   56   \n",
      "\n",
      "       Neighbourhood  Scholarship  Hipertension  Diabetes  Alcoholism  \\\n",
      "0    JARDIM DA PENHA            0             1         0           0   \n",
      "1    JARDIM DA PENHA            0             0         0           0   \n",
      "2      MATA DA PRAIA            0             0         0           0   \n",
      "3  PONTAL DE CAMBURI            0             0         0           0   \n",
      "4    JARDIM DA PENHA            0             1         1           0   \n",
      "\n",
      "   Handcap  SMS_received No-show ScheduledDate AppointmentDate difference  \n",
      "0        0             0      No    2016-04-29      2016-04-29     0 days  \n",
      "1        0             0      No    2016-04-29      2016-04-29     0 days  \n",
      "2        0             0      No    2016-04-29      2016-04-29     0 days  \n",
      "3        0             0      No    2016-04-29      2016-04-29     0 days  \n",
      "4        0             0      No    2016-04-29      2016-04-29     0 days  \n",
      "        PatientId  AppointmentID Gender        ScheduledDay AppointmentDay  \\\n",
      "145  2.373717e+13        5639602      M 2016-04-29 09:17:23     2016-04-29   \n",
      "212  4.266984e+14        5642059      M 2016-04-29 14:59:38     2016-04-29   \n",
      "250  2.942723e+14        5640181      M 2016-04-29 10:13:35     2016-04-29   \n",
      "251  6.537451e+11        5640178      F 2016-04-29 10:13:22     2016-04-29   \n",
      "440  8.366249e+13        5639495      F 2016-04-29 09:09:55     2016-04-29   \n",
      "\n",
      "     Age  Neighbourhood  Scholarship  Hipertension  Diabetes  Alcoholism  \\\n",
      "145   17        ITARARÉ            0             0         0           0   \n",
      "212   62  SANTOS DUMONT            0             1         1           0   \n",
      "250    0      CARATOÍRA            0             0         0           0   \n",
      "251   33      CARATOÍRA            1             0         0           0   \n",
      "440   25   SÃO BENEDITO            1             0         0           0   \n",
      "\n",
      "     Handcap  SMS_received No-show ScheduledDate AppointmentDate difference  \n",
      "145        0             0     Yes    2016-04-29      2016-04-29     0 days  \n",
      "212        0             0     Yes    2016-04-29      2016-04-29     0 days  \n",
      "250        0             0     Yes    2016-04-29      2016-04-29     0 days  \n",
      "251        0             0     Yes    2016-04-29      2016-04-29     0 days  \n",
      "440        0             0     Yes    2016-04-29      2016-04-29     0 days  \n",
      "No-show  Neighbourhood \n",
      "Yes      JARDIM CAMBURI    106\n",
      "         MARIA ORTIZ        81\n",
      "         SANTO ANTÔNIO      69\n",
      "         SÃO PEDRO          64\n",
      "         SANTOS DUMONT      63\n",
      "         BELA VISTA         61\n",
      "         NOVA PALESTINA     58\n",
      "         SÃO JOSÉ           55\n",
      "         ITARARÉ            54\n",
      "         CARATOÍRA          50\n",
      "Name: Neighbourhood, dtype: int64\n",
      "No-show  Neighbourhood    \n",
      "No       JARDIM CAMBURI       2398\n",
      "         MARIA ORTIZ          1994\n",
      "         RESISTÊNCIA          1564\n",
      "         SANTA MARTHA         1450\n",
      "         JARDIM DA PENHA      1188\n",
      "         TABUAZEIRO           1161\n",
      "         ITARARÉ              1079\n",
      "         JESUS DE NAZARETH    1060\n",
      "         SANTO ANTÔNIO        1054\n",
      "         BONFIM               1028\n",
      "Name: Neighbourhood, dtype: int64\n"
     ]
    }
   ],
   "source": [
    "#same day appointments\n",
    "from datetime import date\n",
    "data['difference'] = data['AppointmentDate'] - data['ScheduledDate']\n",
    "same_day_appointment= data[data['difference']=='0 days']\n",
    "\n",
    "same_day_show = same_day_appointment[same_day_appointment[\"No-show\"]==\"No\"]\n",
    "print(same_day_show.head())\n",
    "same_day_no_show = same_day_appointment[same_day_appointment[\"No-show\"]==\"Yes\"]\n",
    "print(same_day_no_show.head())\n",
    "print(same_day_no_show['Neighbourhood'].groupby(same_day_no_show['No-show']).value_counts().nlargest(10))\n",
    "print(same_day_show['Neighbourhood'].groupby(same_day_show['No-show']).value_counts().nlargest(10))\n",
    "\n"
   ]
  },
  {
   "cell_type": "markdown",
   "metadata": {},
   "source": [
    "> People with same day appointments tend to actually show up for their slot\n",
    "\n",
    "> In a way, same day appointments help in reducing no shows. "
   ]
  },
  {
   "cell_type": "markdown",
   "metadata": {},
   "source": [
    "### Research Question 4 - How does scholarship/welfare program affect no-shows?"
   ]
  },
  {
   "cell_type": "code",
   "execution_count": 25,
   "metadata": {},
   "outputs": [
    {
     "data": {
      "text/plain": [
       "Neighbourhood      No-show\n",
       "JARDIM CAMBURI     Yes        1422\n",
       "MARIA ORTIZ        Yes        1184\n",
       "ITARARÉ            Yes         834\n",
       "RESISTÊNCIA        Yes         812\n",
       "CENTRO             Yes         671\n",
       "JESUS DE NAZARETH  Yes         634\n",
       "JARDIM DA PENHA    Yes         630\n",
       "CARATOÍRA          Yes         487\n",
       "TABUAZEIRO         Yes         469\n",
       "BONFIM             Yes         460\n",
       "Name: No-show, dtype: int64"
      ]
     },
     "execution_count": 25,
     "metadata": {},
     "output_type": "execute_result"
    },
    {
     "data": {
      "image/png": "[encoded data removed]",
      "text/plain": [
       "<Figure size 432x288 with 1 Axes>"
      ]
     },
     "metadata": {},
     "output_type": "display_data"
    }
   ],
   "source": [
    "no_scholarship = data[data['Scholarship']==0]\n",
    "no_scholarship_no_show = no_scholarship[no_scholarship['No-show']=='Yes']\n",
    "print(no_scholarship['No-show'].value_counts().plot(kind=\"bar\"))\n",
    "print(no_scholarship_no_show['No-show'].groupby(no_scholarship_no_show['Neighbourhood']).value_counts().nlargest(10).plot(kind=\"bar\"))\n",
    "print(no_scholarship_no_show['No-show'].groupby(no_scholarship_no_show['Neighbourhood']).value_counts().nlargest(10))"
   ]
  },
  {
   "cell_type": "markdown",
   "metadata": {},
   "source": [
    "> This gives us the top neighbourhoods with no scholarships and who didnt turn up for their appointments\n",
    "\n",
    "> Jardim Camburi which actually ranks top in no-show neighbourhoods has 1422 patients not showing up because of scholarship.\n",
    "\n",
    "> It'd help if people in these areas are being provided with health welfare for better treatment chances"
   ]
  },
  {
   "cell_type": "markdown",
   "metadata": {},
   "source": [
    "<a id='conclusions'></a>\n",
    "## Conclusions\n",
    "\n"
   ]
  },
  {
   "cell_type": "markdown",
   "metadata": {
    "collapsed": true
   },
   "source": [
    "> The neighbourhood with maximum no shows upon receiving SMS is Maria Ortiz followed by Jardim Camburi with 641 and 636 no-show patients respectively\n",
    "\n",
    "> Female gender is dominant in both turning up and not showing up for their appointments.\n",
    "\n",
    "> In Maria Ortiz neighbourhood people who received SMS but didnt show up(641) are larger in number than people who actually didnt receive any SMS and hence didnt show up\n",
    "\n",
    "> Maria Ortiz neighbourhood, female patients who didn't show up are 794 while men are at 425 \n",
    "\n",
    "> Jardim Camburi which actually ranks top in no-show neighbourhoods has 1422 patients not showing up because of scholarship.\n",
    "It'd help if people in these areas are being provided with health welfare for better treatment chances\n",
    "\n",
    "> The age group ranges from -1 to 115. Although age -1 doesn't make any sense, we can still retain the row because it's a no show and that's our primary class of interest."
   ]
  },
  {
   "cell_type": "code",
   "execution_count": null,
   "metadata": {},
   "outputs": [],
   "source": []
  }
 ],
 "metadata": {
  "kernelspec": {
   "display_name": "Python 3",
   "language": "python",
   "name": "python3"
  },
  "language_info": {
   "codemirror_mode": {
    "name": "ipython",
    "version": 3
   },
   "file_extension": ".py",
   "mimetype": "text/x-python",
   "name": "python",
   "nbconvert_exporter": "python",
   "pygments_lexer": "ipython3",
   "version": "3.6.5"
  }
 },
 "nbformat": 4,
 "nbformat_minor": 2
}
